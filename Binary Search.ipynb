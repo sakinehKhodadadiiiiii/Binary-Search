{
 "cells": [
  {
   "cell_type": "markdown",
   "id": "81009ed9",
   "metadata": {},
   "source": [
    "# Binary Search"
   ]
  },
  {
   "cell_type": "code",
   "execution_count": 4,
   "id": "fccdfe08",
   "metadata": {},
   "outputs": [
    {
     "data": {
      "text/plain": [
       "6"
      ]
     },
     "execution_count": 4,
     "metadata": {},
     "output_type": "execute_result"
    }
   ],
   "source": [
    "def BinarySearch(A,n,x):\n",
    "    start = 0\n",
    "    end = n-1\n",
    "    while start <= end:\n",
    "        mid = round((start+end)/2)\n",
    "        if x == A[mid]:\n",
    "            return mid\n",
    "        elif x < A[mid]:\n",
    "            end = mid - 1\n",
    "        else:\n",
    "            start = mid + 1\n",
    "    return -1\n",
    "\n",
    "A = [2,3,4,5,6,7,8,9]\n",
    "BinarySearch(A,8,8)"
   ]
  },
  {
   "cell_type": "code",
   "execution_count": null,
   "id": "234f3aaa",
   "metadata": {},
   "outputs": [],
   "source": []
  }
 ],
 "metadata": {
  "kernelspec": {
   "display_name": "Python 3 (ipykernel)",
   "language": "python",
   "name": "python3"
  },
  "language_info": {
   "codemirror_mode": {
    "name": "ipython",
    "version": 3
   },
   "file_extension": ".py",
   "mimetype": "text/x-python",
   "name": "python",
   "nbconvert_exporter": "python",
   "pygments_lexer": "ipython3",
   "version": "3.9.7"
  }
 },
 "nbformat": 4,
 "nbformat_minor": 5
}
