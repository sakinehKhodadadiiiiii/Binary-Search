{
 "cells": [
  {
   "cell_type": "markdown",
   "id": "a95f7bf9",
   "metadata": {},
   "source": [
    "# Binary Search"
   ]
  },
  {
   "cell_type": "markdown",
   "id": "e824d64f",
   "metadata": {},
   "source": [
    "### Iterative method"
   ]
  },
  {
   "cell_type": "code",
   "execution_count": 15,
   "id": "7b75e12c",
   "metadata": {},
   "outputs": [
    {
     "data": {
      "text/plain": [
       "'There is not number 1 in the array'"
      ]
     },
     "execution_count": 15,
     "metadata": {},
     "output_type": "execute_result"
    }
   ],
   "source": [
    "def BinarySearch(A,n,x):\n",
    "    start = 0\n",
    "    end = n-1\n",
    "    while start <= end:\n",
    "        mid = round((start+end)/2)\n",
    "        if x == A[mid]:\n",
    "            return (f'number {x} is at index {mid}')\n",
    "        elif x < A[mid]:\n",
    "            end = mid - 1\n",
    "        else:\n",
    "            start = mid + 1\n",
    "    return (f'There is not number {x} in the array')\n",
    "\n",
    "A = [2,3,4,5,6,7,8,9]\n",
    "BinarySearch(A,8,1)"
   ]
  },
  {
   "cell_type": "markdown",
   "id": "4f13e43d",
   "metadata": {},
   "source": [
    "### Recursive method"
   ]
  },
  {
   "cell_type": "code",
   "execution_count": 22,
   "id": "56e2d6d5",
   "metadata": {},
   "outputs": [
    {
     "data": {
      "text/plain": [
       "'There is not number 10 in the array'"
      ]
     },
     "execution_count": 22,
     "metadata": {},
     "output_type": "execute_result"
    }
   ],
   "source": [
    "def BinarySearch(A,start,end,x):\n",
    "    if start > end:\n",
    "        return (f'There is not number {x} in the array')\n",
    "    mid = round(start + (end-start)/2)\n",
    "    if x == A[mid]:\n",
    "        return f'The number {x} is found at index {mid}'\n",
    "    elif x < A[mid]:\n",
    "        return BinarySearch(A,start,mid-1,x)\n",
    "    else:\n",
    "        return BinarySearch(A,mid+1,end,x)    \n",
    "\n",
    "A = [1,2,3,4,5,6,7,8,9]\n",
    "BinarySearch(A,0,8,10)"
   ]
  },
  {
   "cell_type": "markdown",
   "id": "33f5eb61",
   "metadata": {},
   "source": [
    "### First occurance"
   ]
  },
  {
   "cell_type": "code",
   "execution_count": 8,
   "id": "94698a82",
   "metadata": {},
   "outputs": [
    {
     "data": {
      "text/plain": [
       "8"
      ]
     },
     "execution_count": 8,
     "metadata": {},
     "output_type": "execute_result"
    }
   ],
   "source": [
    "def FirstOccur(A,n,x):\n",
    "    start = 0\n",
    "    end = n-1\n",
    "    result = -1\n",
    "    while start <= end:\n",
    "        mid = round((start+end)/2)\n",
    "        if x == A[mid]:\n",
    "            result = mid\n",
    "            end = mid-1\n",
    "        elif x < A[mid]:\n",
    "            end = mid - 1\n",
    "        else:\n",
    "            start = mid + 1\n",
    "    return result\n",
    "\n",
    "A = [2,3,4,4,4,5,6,7,8,8,8,8,8,9]\n",
    "FirstOccur(A,14,8)"
   ]
  },
  {
   "cell_type": "markdown",
   "id": "aca8fd03",
   "metadata": {},
   "source": [
    "### Last occurance"
   ]
  },
  {
   "cell_type": "code",
   "execution_count": 7,
   "id": "9326787a",
   "metadata": {},
   "outputs": [
    {
     "data": {
      "text/plain": [
       "4"
      ]
     },
     "execution_count": 7,
     "metadata": {},
     "output_type": "execute_result"
    }
   ],
   "source": [
    "def LastOccur(A,n,x):\n",
    "    start = 0\n",
    "    end = n-1\n",
    "    result = -1\n",
    "    while start <= end:\n",
    "        mid = round((start+end)/2)\n",
    "        if x == A[mid]:\n",
    "            result = mid\n",
    "            start = mid+1\n",
    "        elif x < A[mid]:\n",
    "            end = mid - 1\n",
    "        else:\n",
    "            start = mid + 1\n",
    "    return result\n",
    "\n",
    "A = [2,3,4,4,4,5,6,7,8,8,8,8,8,9]\n",
    "LastOccur(A,14,4)"
   ]
  },
  {
   "cell_type": "markdown",
   "id": "baac9e18",
   "metadata": {},
   "source": [
    "### Counting"
   ]
  },
  {
   "cell_type": "code",
   "execution_count": 7,
   "id": "72254b26",
   "metadata": {},
   "outputs": [
    {
     "name": "stdout",
     "output_type": "stream",
     "text": [
      "Enter number:1\n",
      "There is no number 1\n",
      "0\n"
     ]
    }
   ],
   "source": [
    "def CountingOccur(A,n,x,FirstSearch):\n",
    "    start = 0\n",
    "    end = n-1\n",
    "    result = -1\n",
    "    while start <= end:\n",
    "        mid = round((start+end)/2)\n",
    "        if x == A[mid]:\n",
    "            result = mid\n",
    "            if FirstSearch:\n",
    "                end = mid-1\n",
    "            else:\n",
    "                start = mid+1\n",
    "        elif x < A[mid]:\n",
    "            end = mid - 1\n",
    "        else:\n",
    "            start = mid + 1\n",
    "    return result\n",
    "\n",
    "A = [2,3,4,4,4,5,6,7,8,8,8,8,8,9]\n",
    "\n",
    "x = int(input('Enter number:'))\n",
    "FirstIndex = CountingOccur(A,14,x,True)\n",
    "if FirstIndex == -1:\n",
    "    print(f'There is no number {x}')\n",
    "    Count = 0\n",
    "else:\n",
    "    LastIndex = CountingOccur(A,14,x,False)\n",
    "    Count = LastIndex-FirstIndex+1\n",
    "\n",
    "print(Count)\n"
   ]
  },
  {
   "cell_type": "markdown",
   "id": "15324363",
   "metadata": {},
   "source": [
    "### How many times the array has been rotated?"
   ]
  },
  {
   "cell_type": "code",
   "execution_count": 24,
   "id": "4df43210",
   "metadata": {},
   "outputs": [
    {
     "name": "stdout",
     "output_type": "stream",
     "text": [
      "The number of rotation is 4 times\n"
     ]
    }
   ],
   "source": [
    "def FindRotationCount(A,n):\n",
    "    start = 0\n",
    "    end = n-1\n",
    "    while start <= end:\n",
    "        if A[start] <= A[end]:\n",
    "            return start\n",
    "        mid = round((start+end)/2)\n",
    "        next = round((mid+1)/n)\n",
    "        prev = round((mid+n-1)/n)\n",
    "        if (A[mid] <= A[next]) and (A[mid] <= A[prev]):\n",
    "            return mid\n",
    "        elif A[start] <= A[mid]:\n",
    "            start = mid+1\n",
    "        elif A[mid] <= A[end]:\n",
    "            end = mid-1\n",
    "            \n",
    "A = [2,3,4,5,1]\n",
    "count = FindRotationCount(A,5)\n",
    "print(f\"The number of rotation is {count} times\")            "
   ]
  },
  {
   "cell_type": "markdown",
   "id": "fc7992dd",
   "metadata": {},
   "source": [
    "### Search element in a circular sorted array"
   ]
  },
  {
   "cell_type": "code",
   "execution_count": 48,
   "id": "cdd95921",
   "metadata": {},
   "outputs": [
    {
     "name": "stdout",
     "output_type": "stream",
     "text": [
      "The number is at index 2\n"
     ]
    }
   ],
   "source": [
    "def SearchCircular(A,n,x):\n",
    "    start = 0\n",
    "    end = n-1\n",
    "    while start <= end:\n",
    "        mid = round((start+end)/2)\n",
    "        if A[mid] == x:\n",
    "            return mid   # Case 1: we find the x\n",
    "        elif A[mid] >= A[start]:   # Case 2: the left half is sorted\n",
    "            if (x < A[mid]) and (x >= A[start]): # search in the left half\n",
    "                end = mid-1\n",
    "            else:   # search in the right half\n",
    "                start = mid+1\n",
    "        elif A[mid] <= A[end]: # Case 3: the right half is sorted\n",
    "            if (x > A[mid]) and (x <= A[end]): # search in the right half\n",
    "                start = mid+1\n",
    "            else:   #search in the left half\n",
    "                end = mid-1\n",
    "    return -1\n",
    "\n",
    "A = [12,14,18,21,3,6,8,9]        \n",
    "Index = SearchCircular(A,8,18)          \n",
    "print(f'The number is at index {Index}')"
   ]
  },
  {
   "cell_type": "code",
   "execution_count": null,
   "id": "cb7c0050",
   "metadata": {},
   "outputs": [],
   "source": []
  }
 ],
 "metadata": {
  "kernelspec": {
   "display_name": "Python 3 (ipykernel)",
   "language": "python",
   "name": "python3"
  },
  "language_info": {
   "codemirror_mode": {
    "name": "ipython",
    "version": 3
   },
   "file_extension": ".py",
   "mimetype": "text/x-python",
   "name": "python",
   "nbconvert_exporter": "python",
   "pygments_lexer": "ipython3",
   "version": "3.9.7"
  }
 },
 "nbformat": 4,
 "nbformat_minor": 5
}
